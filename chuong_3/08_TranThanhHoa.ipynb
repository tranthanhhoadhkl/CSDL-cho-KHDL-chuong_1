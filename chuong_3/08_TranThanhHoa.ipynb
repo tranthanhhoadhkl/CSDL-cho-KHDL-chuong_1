{
  "nbformat": 4,
  "nbformat_minor": 0,
  "metadata": {
    "colab": {
      "provenance": []
    },
    "kernelspec": {
      "name": "python3",
      "display_name": "Python 3"
    },
    "language_info": {
      "name": "python"
    }
  },
  "cells": [
    {
      "cell_type": "code",
      "execution_count": 1,
      "metadata": {
        "id": "eNLN6SfELaHr"
      },
      "outputs": [],
      "source": [
        "import sqlite3\n",
        "import pandas as pd\n",
        "\n",
        "# Tạo database SQLite trong bộ nhớ\n",
        "conn = sqlite3.connect(':memory:')\n",
        "cursor = conn.cursor()\n",
        "\n"
      ]
    },
    {
      "cell_type": "code",
      "source": [
        "#Bài 1\n",
        "cursor.execute(\"DROP TABLE IF EXISTS score;\")\n",
        "\n",
        "cursor.execute(\"\"\"\n",
        "CREATE TABLE score (\n",
        "    Day TEXT,\n",
        "    A INTEGER,\n",
        "    B INTEGER,\n",
        "    C INTEGER\n",
        ")\n",
        "\"\"\")\n",
        "\n",
        "data = [\n",
        "    ('Day 1', 1, 9, 3),\n",
        "    ('Day 2', 5, 6, 7),\n",
        "    ('Day 3', 3, 7, 5),\n",
        "    ('Day 4', 4, 5, 6),\n",
        "]\n",
        "\n",
        "cursor.executemany(\"INSERT INTO score VALUES (?, ?, ?, ?)\", data)\n",
        "conn.commit()\n",
        "query = \"\"\"\n",
        "SELECT\n",
        "    (COUNT(*) * SUM(A * B) - SUM(A) * SUM(B)) * 1.0 /\n",
        "    (SQRT(COUNT(*) * SUM(A*A) - SUM(A)*SUM(A)) *\n",
        "     SQRT(COUNT(*) * SUM(B*B) - SUM(B)*SUM(B))) AS r_ab\n",
        "FROM score\n",
        "\"\"\"\n",
        "print(pd.read_sql_query(query, conn))\n"
      ],
      "metadata": {
        "id": "IVhH-3IfLoH2",
        "colab": {
          "base_uri": "https://localhost:8080/"
        },
        "outputId": "8a45f1e7-859b-4871-8243-075d12a7594f"
      },
      "execution_count": 3,
      "outputs": [
        {
          "output_type": "stream",
          "name": "stdout",
          "text": [
            "       r_ab\n",
            "0 -0.885714\n"
          ]
        }
      ]
    },
    {
      "cell_type": "code",
      "source": [
        "import pandas as pd\n",
        "from scipy.stats import chi2_contingency\n",
        "\n",
        "# Dữ liệu điểm số\n",
        "data = {\n",
        "    'A': [8, 7.5, 8, 6],\n",
        "    'B': [9, 8.5, 7, 7],\n",
        "    'C': [7, 7, 8, 5]\n",
        "}\n",
        "df = pd.DataFrame(data, index=['Day 1', 'Day 2', 'Day 3', 'Day 4'])\n",
        "\n",
        "# Thực hiện kiểm định Chi bình phương\n",
        "chi2, p, dof, expected = chi2_contingency(df)\n",
        "\n",
        "print(\"Chi-squared:\", chi2)\n",
        "print(\"p-value:\", p)\n",
        "print(\"Degrees of freedom:\", dof)\n",
        "print(\"Expected frequencies:\\n\", expected)\n",
        "\n",
        "# Kết luận\n",
        "if p < 0.05:\n",
        "    print(\"Có sự khác biệt đáng kể giữa các mẫu.\")\n",
        "else:\n",
        "    print(\"Không có sự khác biệt đáng kể giữa các mẫu.\")\n"
      ],
      "metadata": {
        "colab": {
          "base_uri": "https://localhost:8080/"
        },
        "id": "ubOHEUxoMSaZ",
        "outputId": "1af4d62c-d2ba-424a-f6e7-12381f15dfa0"
      },
      "execution_count": 4,
      "outputs": [
        {
          "output_type": "stream",
          "name": "stdout",
          "text": [
            "Chi-squared: 0.4719322848365669\n",
            "p-value: 0.9981634697516962\n",
            "Degrees of freedom: 6\n",
            "Expected frequencies:\n",
            " [[8.04545455 8.59090909 7.36363636]\n",
            " [7.71022727 8.23295455 7.05681818]\n",
            " [7.71022727 8.23295455 7.05681818]\n",
            " [6.03409091 6.44318182 5.52272727]]\n",
            "Không có sự khác biệt đáng kể giữa các mẫu.\n"
          ]
        }
      ]
    },
    {
      "cell_type": "code",
      "source": [
        "\n",
        "# Tạo bảng flights với departure_time là số nguyên (VD: 830 = 08:30)\n",
        "cursor.execute('''\n",
        "CREATE TABLE flights (\n",
        "    flight_id INTEGER PRIMARY KEY,\n",
        "    departure_time INTEGER\n",
        ")\n",
        "''')\n",
        "\n",
        "# Dữ liệu mẫu\n",
        "flight_times = [\n",
        "    (1, 830),\n",
        "    (2, 1445),\n",
        "    (3, 50),\n",
        "    (4, 123),\n",
        "    (5, 2359),\n",
        "    (6, 0)\n",
        "]\n",
        "\n",
        "# Chèn dữ liệu vào bảng\n",
        "cursor.executemany('INSERT INTO flights (flight_id, departure_time) VALUES (?, ?)', flight_times)\n",
        "\n",
        "# Truy vấn và chuyển đổi sang định dạng HH:MM\n",
        "query = '''\n",
        "SELECT\n",
        "    flight_id,\n",
        "    departure_time,\n",
        "    printf('%02d:%02d', departure_time / 100, departure_time % 100) AS formatted_time\n",
        "FROM flights\n",
        "ORDER BY flight_id;\n",
        "'''\n",
        "\n",
        "# Thực thi và hiển thị kết quả\n",
        "df = pd.read_sql_query(query, conn)\n",
        "print(df)\n",
        "\n",
        "# Đóng kết nối\n",
        "conn.close()\n"
      ],
      "metadata": {
        "colab": {
          "base_uri": "https://localhost:8080/"
        },
        "id": "zDASLCTKMX64",
        "outputId": "c5ee90f0-e62f-4d9a-f631-b117686a882f"
      },
      "execution_count": 5,
      "outputs": [
        {
          "output_type": "stream",
          "name": "stdout",
          "text": [
            "   flight_id  departure_time formatted_time\n",
            "0          1             830          08:30\n",
            "1          2            1445          14:45\n",
            "2          3              50          00:50\n",
            "3          4             123          01:23\n",
            "4          5            2359          23:59\n",
            "5          6               0          00:00\n"
          ]
        }
      ]
    },
    {
      "cell_type": "code",
      "source": [
        "#bzi 4\n",
        "import numpy as np\n",
        "import pandas as pd\n",
        "\n",
        "# Dữ liệu đầu vào\n",
        "data = [10, 11, 12, 13, 11, 9, 15, 8]\n",
        "\n",
        "# Tính median\n",
        "median = np.median(data)\n",
        "\n",
        "# Tính độ lệch tuyệt đối\n",
        "abs_deviation = [abs(x - median) for x in data]\n",
        "\n",
        "# Tính MAD\n",
        "mad = np.median(abs_deviation)\n",
        "\n",
        "# Ngưỡng phát hiện ngoại lệ\n",
        "threshold = 1.5 * mad\n",
        "\n",
        "# Đánh dấu ngoại lệ\n",
        "outliers = [abs(x - median) > threshold for x in data]\n",
        "\n",
        "# Tổng hợp kết quả\n",
        "df = pd.DataFrame({\n",
        "    \"value\": data,\n",
        "    \"abs_dev\": abs_deviation,\n",
        "    \"is_outlier\": outliers\n",
        "})\n",
        "\n",
        "# Thêm median, MAD, threshold vào bảng cho rõ ràng\n",
        "df[\"median\"] = median\n",
        "df[\"MAD\"] = mad\n",
        "df[\"threshold\"] = threshold\n",
        "\n",
        "print(df)\n"
      ],
      "metadata": {
        "colab": {
          "base_uri": "https://localhost:8080/"
        },
        "id": "_8cMuqLTMabU",
        "outputId": "18c218ba-0dd1-4be8-c12c-2659b3806b8e"
      },
      "execution_count": 10,
      "outputs": [
        {
          "output_type": "stream",
          "name": "stdout",
          "text": [
            "   value  abs_dev  is_outlier  median  MAD  threshold\n",
            "0     10      1.0       False    11.0  1.5       2.25\n",
            "1     11      0.0       False    11.0  1.5       2.25\n",
            "2     12      1.0       False    11.0  1.5       2.25\n",
            "3     13      2.0       False    11.0  1.5       2.25\n",
            "4     11      0.0       False    11.0  1.5       2.25\n",
            "5      9      2.0       False    11.0  1.5       2.25\n",
            "6     15      4.0        True    11.0  1.5       2.25\n",
            "7      8      3.0        True    11.0  1.5       2.25\n"
          ]
        }
      ]
    },
    {
      "cell_type": "code",
      "source": [
        "import sqlite3\n",
        "import pandas as pd\n",
        "\n",
        "# Kết nối SQLite\n",
        "conn = sqlite3.connect(\":memory:\")\n",
        "cursor = conn.cursor()\n",
        "\n",
        "# Tạo bảng Patient\n",
        "cursor.execute(\"\"\"\n",
        "CREATE TABLE Patient (\n",
        "    id INTEGER PRIMARY KEY,\n",
        "    last_name TEXT,\n",
        "    weight INTEGER,\n",
        "    height INTEGER\n",
        ")\n",
        "\"\"\")\n",
        "\n",
        "# Thêm dữ liệu mẫu\n",
        "patients = [\n",
        "    ('Nguyen', 65, 170),\n",
        "    ('Nguyen', 65, 168),\n",
        "    ('Tran', 70, 170),\n",
        "    ('Le', 65, 165),\n",
        "    ('Nguyen', 60, 170)\n",
        "]\n",
        "cursor.executemany(\"INSERT INTO Patient (last_name, weight, height) VALUES (?, ?, ?)\", patients)\n",
        "\n",
        "# Truy vấn so sánh Boolean\n",
        "query = \"\"\"\n",
        "SELECT\n",
        "    p1.id AS id1, p1.last_name AS name1, p1.weight AS weight1,\n",
        "    p2.id AS id2, p2.last_name AS name2, p2.weight AS weight2,\n",
        "    CASE WHEN p1.last_name = p2.last_name THEN 1 ELSE 0 END AS match_last_name,\n",
        "    CASE WHEN p1.weight = p2.weight THEN 1 ELSE 0 END AS match_weight,\n",
        "    (CASE WHEN p1.last_name = p2.last_name THEN 1 ELSE 0 END +\n",
        "     CASE WHEN p1.weight = p2.weight THEN 1 ELSE 0 END) AS match_score\n",
        "FROM Patient p1\n",
        "JOIN Patient p2 ON p1.id < p2.id\n",
        "ORDER BY match_score DESC\n",
        "\"\"\"\n",
        "\n",
        "# Đọc kết quả\n",
        "df = pd.read_sql_query(query, conn)\n",
        "print(df)\n",
        "\n",
        "conn.close()\n"
      ],
      "metadata": {
        "colab": {
          "base_uri": "https://localhost:8080/"
        },
        "id": "4iPzmdz6S43p",
        "outputId": "b01f5ea0-9f51-4d0f-ab66-00231d6404b1"
      },
      "execution_count": 11,
      "outputs": [
        {
          "output_type": "stream",
          "name": "stdout",
          "text": [
            "   id1   name1  weight1  id2   name2  weight2  match_last_name  match_weight  \\\n",
            "0    1  Nguyen       65    2  Nguyen       65                1             1   \n",
            "1    1  Nguyen       65    4      Le       65                0             1   \n",
            "2    1  Nguyen       65    5  Nguyen       60                1             0   \n",
            "3    2  Nguyen       65    4      Le       65                0             1   \n",
            "4    2  Nguyen       65    5  Nguyen       60                1             0   \n",
            "5    1  Nguyen       65    3    Tran       70                0             0   \n",
            "6    2  Nguyen       65    3    Tran       70                0             0   \n",
            "7    3    Tran       70    4      Le       65                0             0   \n",
            "8    3    Tran       70    5  Nguyen       60                0             0   \n",
            "9    4      Le       65    5  Nguyen       60                0             0   \n",
            "\n",
            "   match_score  \n",
            "0            2  \n",
            "1            1  \n",
            "2            1  \n",
            "3            1  \n",
            "4            1  \n",
            "5            0  \n",
            "6            0  \n",
            "7            0  \n",
            "8            0  \n",
            "9            0  \n"
          ]
        }
      ]
    }
  ]
}